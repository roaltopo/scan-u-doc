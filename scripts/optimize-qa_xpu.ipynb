{
 "cells": [
  {
   "cell_type": "code",
   "execution_count": 1,
   "id": "7796f677-f190-4b1c-a6c7-1595df4970c4",
   "metadata": {},
   "outputs": [],
   "source": [
    "import torch\n",
    "############# code changes ###############\n",
    "import intel_extension_for_pytorch as ipex\n",
    "############# code changes ###############"
   ]
  },
  {
   "cell_type": "code",
   "execution_count": 2,
   "id": "73aabd73-dda8-4792-9014-cebcdae39290",
   "metadata": {},
   "outputs": [],
   "source": [
    "import numpy as np\n",
    "from transformers import AutoModelForQuestionAnswering, AutoTokenizer\n",
    "import collections"
   ]
  },
  {
   "cell_type": "code",
   "execution_count": 4,
   "id": "fcc65317-4232-41db-bb0f-ebb54aa0dbb4",
   "metadata": {},
   "outputs": [],
   "source": [
    "model_checkpoint = \"roaltopo/scan-u-doc_question-answer\"\n",
    "question = \"How many programming languages does BLOOM support?\"\n",
    "context = \"BLOOM has 176 billion parameters and can generate text in 46 languages natural languages and 13 programming languages.\""
   ]
  },
  {
   "cell_type": "code",
   "execution_count": null,
   "id": "9f027bfc-ea86-4cab-9194-eaa5418cc836",
   "metadata": {},
   "outputs": [],
   "source": []
  },
  {
   "cell_type": "code",
   "execution_count": 6,
   "id": "75600712-cfbc-42af-a578-398340a1de90",
   "metadata": {},
   "outputs": [
    {
     "name": "stdout",
     "output_type": "stream",
     "text": [
      "Inference time for FP32 took 0.034 seconds\n"
     ]
    }
   ],
   "source": [
    "model = AutoModelForQuestionAnswering.from_pretrained(model_checkpoint)\n",
    "tokenizer = AutoTokenizer.from_pretrained(model_checkpoint)\n",
    "\n",
    "inputs = tokenizer(question, context, return_tensors=\"pt\")\n",
    "\n",
    "model.eval()\n",
    "\n",
    "model = model.to(\"xpu\")\n",
    "inputs = inputs.to(\"xpu\")\n",
    "\n",
    "import time\n",
    "num_times = 100\n",
    "warmup_rounds = 20\n",
    "\n",
    "latency_list = []\n",
    "for i in range(num_times):\n",
    "    time_start = time.time()\n",
    "    outputs = model(**inputs)\n",
    "    if i >= warmup_rounds:\n",
    "        latency_list.append(time.time() - time_start)\n",
    "\n",
    "fp32_inference_time = np.mean(latency_list)\n",
    "print(\"Inference time for FP32 took %.3f seconds\" %(fp32_inference_time))"
   ]
  },
  {
   "cell_type": "code",
   "execution_count": 7,
   "id": "5a8efc97-681c-474f-a626-97c3c72ae097",
   "metadata": {},
   "outputs": [
    {
     "name": "stderr",
     "output_type": "stream",
     "text": [
      "/opt/intel/oneapi/intelpython/latest/envs/pytorch-gpu/lib/python3.9/site-packages/intel_extension_for_pytorch/frontend.py:611: UserWarning: Conv BatchNorm folding failed during the optimize process.\n",
      "  warnings.warn(\n",
      "/opt/intel/oneapi/intelpython/latest/envs/pytorch-gpu/lib/python3.9/site-packages/intel_extension_for_pytorch/frontend.py:618: UserWarning: Linear BatchNorm folding failed during the optimize process.\n",
      "  warnings.warn(\n"
     ]
    },
    {
     "name": "stdout",
     "output_type": "stream",
     "text": [
      "Inference time for BF16 took 0.027 seconds\n"
     ]
    }
   ],
   "source": [
    "model = AutoModelForQuestionAnswering.from_pretrained(model_checkpoint)\n",
    "tokenizer = AutoTokenizer.from_pretrained(model_checkpoint)\n",
    "\n",
    "inputs = tokenizer(question, context, return_tensors=\"pt\")\n",
    "\n",
    "model.eval()\n",
    "\n",
    "model = model.to(\"xpu\")\n",
    "inputs = inputs.to(\"xpu\")\n",
    "\n",
    "import time\n",
    "num_times = 100\n",
    "warmup_rounds = 20\n",
    "\n",
    "model = ipex.optimize(model, dtype=torch.bfloat16)\n",
    "latency_list = []\n",
    "with torch.no_grad():\n",
    "    ########################### code changes ########################\n",
    "    with torch.xpu.amp.autocast(enabled=True, dtype=torch.bfloat16):\n",
    "    ########################### code changes ########################\n",
    "        for i in range(num_times):\n",
    "            time_start = time.time()\n",
    "            outputs = model(**inputs)\n",
    "            if i >= warmup_rounds:\n",
    "                latency_list.append(time.time() - time_start)\n",
    "\n",
    "bf16_inference_time = np.mean(latency_list)\n",
    "print(\"Inference time for BF16 took %.3f seconds\" %(bf16_inference_time))"
   ]
  },
  {
   "cell_type": "code",
   "execution_count": null,
   "id": "9c619115-c909-45ca-9b88-1fcaadd29e58",
   "metadata": {},
   "outputs": [],
   "source": []
  },
  {
   "cell_type": "code",
   "execution_count": 8,
   "id": "5e237f46-3747-42ea-a46d-7d4e4840847c",
   "metadata": {},
   "outputs": [
    {
     "name": "stdout",
     "output_type": "stream",
     "text": [
      "Inference time for Torchscript took 0.015 seconds\n"
     ]
    }
   ],
   "source": [
    "model = AutoModelForQuestionAnswering.from_pretrained(model_checkpoint)\n",
    "tokenizer = AutoTokenizer.from_pretrained(model_checkpoint)\n",
    "vocab_size = model.config.vocab_size\n",
    "\n",
    "\n",
    "model.eval()\n",
    "\n",
    "model = model.to(\"xpu\")\n",
    "model = ipex.optimize(model, dtype=torch.float16)\n",
    "with torch.no_grad():\n",
    "    seq_length = 256\n",
    "    d= {\n",
    "        'input_ids': torch.randint(vocab_size, size=[1, seq_length]).to(\"xpu\"),\n",
    "        'attention_mask': torch.ones(1, seq_length, dtype=torch.int64).to(\"xpu\")   \n",
    "    }\n",
    "    \n",
    "    with torch.xpu.amp.autocast(enabled=True, dtype=torch.bfloat16):\n",
    "    ############################# code changes #####################\n",
    "        model = torch.jit.trace(model, (d['input_ids'],d['attention_mask'],), strict=False) #, check_trace=False\n",
    "        model = torch.jit.freeze(model)\n",
    "        traced_model_path = \"traced_model.pt\"\n",
    "        torch.jit.save(model, traced_model_path)\n",
    "\n",
    "    with torch.xpu.amp.autocast(enabled=True, dtype=torch.bfloat16):\n",
    "        inputs = tokenizer(question, context, return_tensors=\"pt\")\n",
    "        inputs = {\n",
    "            'input_ids': inputs['input_ids'].to(\"xpu\"),\n",
    "            'attention_mask': inputs['attention_mask'].to(\"xpu\")\n",
    "        }\n",
    "        latency_list = []\n",
    "        for i in range(num_times):\n",
    "            time_start = time.time()\n",
    "            outputs = model(**inputs)\n",
    "            if i >= warmup_rounds:\n",
    "                latency_list.append(time.time() - time_start)\n",
    "\n",
    "torchscript_inference_time = np.mean(latency_list)\n",
    "print(\"Inference time for Torchscript took %.3f seconds\" %(torchscript_inference_time))"
   ]
  },
  {
   "cell_type": "code",
   "execution_count": null,
   "id": "108ebda0-169a-45e2-9363-7dc8b73cb4da",
   "metadata": {},
   "outputs": [],
   "source": []
  },
  {
   "cell_type": "code",
   "execution_count": 11,
   "id": "a3a466f6-f438-489d-adb7-517b41b19af8",
   "metadata": {},
   "outputs": [],
   "source": [
    "\n",
    "\"\"\"\n",
    "Prints out results and displays figures summarizing output.\n",
    "\"\"\"\n",
    "\n",
    "def summarize_results(modelName=\"\", results=None):\n",
    "    \"\"\"\n",
    "    Input parameters\n",
    "        modelName: a str representing the name of the model\n",
    "        results: a dict with the run case and its corresponding time in seconds\n",
    "    Return value\n",
    "        None\n",
    "    \"\"\"\n",
    "\n",
    "    # Inference time results\n",
    "    print(\"\\nSummary for %s\" %(modelName))\n",
    "    for key in results.keys():\n",
    "        print(\"%s inference time: %.3f seconds\" %(key, results[key]))\n",
    "\n",
    "    # Create bar chart with inference time results\n",
    "    plt.figure()\n",
    "    plt.title(\"%s Inference Time\" %(modelName))\n",
    "    plt.xlabel(\"Run Case\")\n",
    "    plt.ylabel(\"Inference Time (seconds)\")\n",
    "    plt.bar(results.keys(), results.values())\n",
    "\n",
    "    # Calculate speedup when using AMX\n",
    "    print(\"\\n\")\n",
    "    bf16_speedup = results[\"FP32\"] / results[\"BF16\"]\n",
    "    print(\"BF16 with AMX is %.2fX faster than FP32\" %bf16_speedup)\n",
    "    torchscript_speedup = results[\"FP32\"] / results[\"TorchScript\"]\n",
    "    print(\"Torchscript is %.2fX faster than FP32\" %torchscript_speedup)\n",
    "    print(\"\\n\\n\")\n",
    "\n",
    "    # Create bar chart with speedup results\n",
    "    plt.figure()\n",
    "    plt.title(\"%s AMX BF16 Speedup over FP32\" %modelName)\n",
    "    plt.xlabel(\"Run Case\")\n",
    "    plt.ylabel(\"Speedup\")\n",
    "    plt.bar(results.keys(), \n",
    "        [1, bf16_speedup, torchscript_speedup]\n",
    "    )"
   ]
  },
  {
   "cell_type": "code",
   "execution_count": 12,
   "id": "aef96577-8d45-4e05-8d4c-81a31014f181",
   "metadata": {},
   "outputs": [
    {
     "name": "stdout",
     "output_type": "stream",
     "text": [
      "\n",
      "Summary for QA\n",
      "FP32 inference time: 0.034 seconds\n",
      "BF16 inference time: 0.027 seconds\n",
      "TorchScript inference time: 0.015 seconds\n",
      "\n",
      "\n",
      "BF16 with AMX is 1.25X faster than FP32\n",
      "Torchscript is 2.29X faster than FP32\n",
      "\n",
      "\n",
      "\n"
     ]
    },
    {
     "data": {
      "image/png": "[encoded data removed]",
      "text/plain": [
       "<Figure size 640x480 with 1 Axes>"
      ]
     },
     "metadata": {},
     "output_type": "display_data"
    },
    {
     "data": {
      "image/png": "[encoded data removed]",
      "text/plain": [
       "<Figure size 640x480 with 1 Axes>"
      ]
     },
     "metadata": {},
     "output_type": "display_data"
    }
   ],
   "source": [
    "# Summarize and display results\n",
    "#!pip install matplotlib\n",
    "import matplotlib.pyplot as plt\n",
    "results_bert = {\n",
    "        \"FP32\": fp32_inference_time,\n",
    "        \"BF16\": bf16_inference_time,\n",
    "        \"TorchScript\": torchscript_inference_time\n",
    "    }\n",
    "summarize_results(\"QA\", results_bert)\n",
    "plt.show()"
   ]
  },
  {
   "cell_type": "code",
   "execution_count": null,
   "id": "1c845f6e-e070-4f9f-b1d3-8ed31fe4e3b4",
   "metadata": {},
   "outputs": [],
   "source": []
  }
 ],
 "metadata": {
  "kernelspec": {
   "display_name": "pytorch-gpu",
   "language": "python",
   "name": "pytorch-gpu"
  },
  "language_info": {
   "codemirror_mode": {
    "name": "ipython",
    "version": 3
   },
   "file_extension": ".py",
   "mimetype": "text/x-python",
   "name": "python",
   "nbconvert_exporter": "python",
   "pygments_lexer": "ipython3",
   "version": "3.9.16"
  }
 },
 "nbformat": 4,
 "nbformat_minor": 5
}
